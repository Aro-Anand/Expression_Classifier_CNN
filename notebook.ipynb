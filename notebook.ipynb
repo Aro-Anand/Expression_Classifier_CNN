{
 "cells": [
  {
   "cell_type": "markdown",
   "metadata": {},
   "source": [
    "# Image Classification-CNN"
   ]
  },
  {
   "cell_type": "code",
   "execution_count": 1,
   "metadata": {},
   "outputs": [],
   "source": [
    "import tensorflow as tf\n",
    "import os"
   ]
  },
  {
   "cell_type": "code",
   "execution_count": null,
   "metadata": {},
   "outputs": [],
   "source": [
    "# GPUs = tf.config.experimental.list_physical_devices(\"CPu\")\n",
    "# for gpu in GPUs:\n",
    "    # tf.config.experimental.set_memory_growth(gpu, True)                                          For Avoid OOM errors"
   ]
  },
  {
   "cell_type": "markdown",
   "metadata": {},
   "source": [
    "### Remove dodgy images     \n",
    "    --> The images are may be corrupted or wrong extension so it rid of all things."
   ]
  },
  {
   "cell_type": "code",
   "execution_count": null,
   "metadata": {},
   "outputs": [
    {
     "name": "stdout",
     "output_type": "stream",
     "text": [
      "Collecting standard-imghdrNote: you may need to restart the kernel to use updated packages.\n",
      "\n",
      "  Downloading standard_imghdr-3.13.0-py3-none-any.whl.metadata (862 bytes)\n",
      "Downloading standard_imghdr-3.13.0-py3-none-any.whl (4.6 kB)\n",
      "Installing collected packages: standard-imghdr\n",
      "Successfully installed standard-imghdr-3.13.0\n"
     ]
    }
   ],
   "source": [
    "# pip install standard-imghdr"
   ]
  },
  {
   "cell_type": "code",
   "execution_count": 10,
   "metadata": {},
   "outputs": [],
   "source": [
    "import cv2\n",
    "import imghdr       #Used for check the extension of the images."
   ]
  },
  {
   "cell_type": "code",
   "execution_count": 11,
   "metadata": {},
   "outputs": [],
   "source": [
    "data_dir = \"Data\""
   ]
  },
  {
   "cell_type": "code",
   "execution_count": 15,
   "metadata": {},
   "outputs": [
    {
     "data": {
      "text/plain": [
       "['-and-making-cheerful-gestures-at-the-camera-positive-human-facial-exp-W3KFFR.jpg',\n",
       " '-face-human-expressions-emotions-portrait-pointing-looking-excited-147751295.jpg',\n",
       " '-looking-surprised-amazed-by-great-news-isolated-over-white-background-photo.jpg',\n",
       " '1000_F_206825373_PfhE4TyHbpUXggBKdTLZYn0HcuRCP9rf.jpg',\n",
       " '1000_F_246149573_1dbnEopMZjSflWG4ZvojXhVVV8cTewTW.jpg',\n",
       " '1000_F_303704831_0lfmbfqH4z2wfPDUQZxMsRyA6Rw2Al61.jpg',\n",
       " '160-1600378_transparent-happy-person-png-happy-man-face-png.png',\n",
       " '1920_face-new-675956.jpg',\n",
       " '201310-orig-happy-work-3-949x534.jpg',\n",
       " '30-happy-people-traits.jpg',\n",
       " '311964130.jpg',\n",
       " '313620493.jpg',\n",
       " '318978451.jpg',\n",
       " '331886716.jpg',\n",
       " '360_F_122335513_GB4jSOLOix2BTYODKet4qWJH7AEaEszL.jpg',\n",
       " '360_F_436173790_PsRycGkjCYj7CrYv1gWhNFfIAZxz7lSM.jpg',\n",
       " '5-happy-girls-share-the-secrets-to-always-having-a-smile-on-their-faces-vogue-india-1366x768.jpg',\n",
       " '6.jpg',\n",
       " '68132555-smiling-faces-happy-group-of-multiethnic-people-men-and-women.jpg',\n",
       " '6c0fbacf84b145add61439ce76e391b7.jpg',\n",
       " '77087478-headshot-of-happy-face-of-asian-man-with-beard-and-mustache.jpg',\n",
       " '7a606b1dd79e95267a7c11403857e958.jpg',\n",
       " '93232056-happy-face-portrait-of-a-happy-nice-delighted-man-smiling-while-looking-at-you.jpg',\n",
       " 'ab41de97bad1d2f92009222d137b76b6.jpg',\n",
       " 'AF2bZygrhJuBhamOmGlzeyLAQw6eUOa5PM-jWYkIFD88Nc7H5Qs64-c-mo.jpg',\n",
       " 'akeup-smiling-looking-happy-camera-posing-against-pink-background_1258-88524.jpg',\n",
       " 'appy-face-human-expressions-emotions-teenager-studio-shot-isolated-143260494.jpg',\n",
       " 'astonished-beauty-model-happy-woman-makeup-amazed-girl-face-expression-open-mouth-hands-98741023.jpg',\n",
       " 'attractive-cheerful-girl-demonstrating-copy-space-ad-new-isolated-2080080004.jpg',\n",
       " 'casual-portrait-in-positive-view-big-smile-beautiful-model-posing-1554086789.jpg',\n",
       " 'close-portrait-happy-black-man-600nw-151566872.jpg',\n",
       " 'collection-of-happy-people-faces-HRR8DT.jpg',\n",
       " 'Copy-of-Untitled-60-1152x649.jpg',\n",
       " 'depositphotos_12866006-stock-photo-happy-young-woman-showing-thumbs.jpg',\n",
       " 'depositphotos_145121769-stock-photo-happy-people-faces.jpg',\n",
       " 'depositphotos_241357492-stock-photo-close-portrait-young-caucasian-man.jpg',\n",
       " 'depositphotos_374111884-stock-photo-cute-happy-face-close-face.jpg',\n",
       " 'e6c8d72d91141c6659b6cff32c3462a6.jpg',\n",
       " 'emotion_pixel_perfect_color_line_icons_4-happy-512.png',\n",
       " 'f-a-female-in-summer-ready-for-travel-smiling-with-mock-up-space-fit_400_400.jpg',\n",
       " 'fdc4b4b326be698b67423d503bacc416.jpg',\n",
       " 'FreeVector-Happy-Face.jpg',\n",
       " 'girl-happy-face-cartoon-cute-png.png',\n",
       " 'girl-smiling-close-up-photography.jpg',\n",
       " 'girl-smiling-happy-face-wallpaper-preview.jpg',\n",
       " 'guilherme-stecanella-375176-unsplash.jpg',\n",
       " 'handsome-cheerful-man-with-happy-smile_176420-18028.jpg',\n",
       " 'handsome-man-smiling-happy-face-portrait-close-up_53876-145493.jpg',\n",
       " 'handsome-man-smiling-happy-face-portrait-close-up_53876-146189.jpg',\n",
       " 'happy-2191132_1280.jpg',\n",
       " 'Happy-Face-step-by-step-drawing-tutorial-step-10.png',\n",
       " 'happy-handsome-man-posing_23-2148911847.jpg',\n",
       " 'happy-home.jpg',\n",
       " 'happy-people-happy-group-smiling-face-happy_941600-12334.jpg',\n",
       " 'happy-people-png-favpng-G0PyHWhgTCC4MfKt9FDkU9RaL.jpg',\n",
       " 'happy-smile.jpg',\n",
       " 'happy-woman-face-nature-thinking-260nw-2494441233.jpg',\n",
       " 'Happy_People_Happy_Man.jpg',\n",
       " 'image-of-indian-boy-happy-face-image-photo.jpg',\n",
       " 'image.jpeg',\n",
       " 'image10.jpeg',\n",
       " 'image11.jpeg',\n",
       " 'image12.jpeg',\n",
       " 'image13.jpeg',\n",
       " 'image14.jpeg',\n",
       " 'image15.jpeg',\n",
       " 'image16.jpeg',\n",
       " 'image17.jpeg',\n",
       " 'image18.jpeg',\n",
       " 'image19.jpeg',\n",
       " 'image2.jpeg',\n",
       " 'image20.jpeg',\n",
       " 'image21.jpeg',\n",
       " 'image22.jpeg',\n",
       " 'image23.jpeg',\n",
       " 'image24.jpeg',\n",
       " 'image25.jpeg',\n",
       " 'image26.jpeg',\n",
       " 'image27.jpeg',\n",
       " 'image28.jpeg',\n",
       " 'image29.jpeg',\n",
       " 'image3.jpeg',\n",
       " 'image30.jpeg',\n",
       " 'image31.jpeg',\n",
       " 'image32.jpeg',\n",
       " 'image33.jpeg',\n",
       " 'image34.jpeg',\n",
       " 'image35.jpeg',\n",
       " 'image36.jpeg',\n",
       " 'image37.jpeg',\n",
       " 'image38.jpeg',\n",
       " 'image39.jpeg',\n",
       " 'image4.jpeg',\n",
       " 'image40.jpeg',\n",
       " 'image41.jpeg',\n",
       " 'image42.jpeg',\n",
       " 'image43.jpeg',\n",
       " 'image44.jpeg',\n",
       " 'image45.jpeg',\n",
       " 'image46.jpeg',\n",
       " 'image47.jpeg',\n",
       " 'image48.jpeg',\n",
       " 'image49.jpeg',\n",
       " 'image5.jpeg',\n",
       " 'image50.jpeg',\n",
       " 'image51.jpeg',\n",
       " 'image52.jpeg',\n",
       " 'image53.jpeg',\n",
       " 'image54.jpeg',\n",
       " 'image55.jpeg',\n",
       " 'image56.png',\n",
       " 'image6.jpeg',\n",
       " 'image7.jpeg',\n",
       " 'image8.jpeg',\n",
       " 'image9.jpeg',\n",
       " 'india-happy-faces-grandmother.jpg',\n",
       " 'ing-happy-face-human-expressions-emotions-close-up-caucasian-latin-154263871.jpg',\n",
       " 'ior-female-looking-camera-close-up-face-headshot-portrait-happy-people-photo.jpg',\n",
       " 'king-photos-together-family-Family-pictures-sibling-vacation-toddler-1556383.jpg',\n",
       " 'mental-health-woman.webp',\n",
       " 'n-tooth-emotion-friendly-young-people-sense-chin-portrait-photography-946732.jpg',\n",
       " 'ortrait-and-indian-athlete-thinking-of-exercise-goals-with-smile-fit_400_400.jpg',\n",
       " 'people-happy-face-man-icon-vector-13599330.jpg',\n",
       " 'people-happy-face-man-icon-vector-14139729.jpg',\n",
       " 'people-happy-face-woman-icon-vector-13657660.jpg',\n",
       " 'png-transparent-graphy-happiness-happy-man-man-tshirt-child-people-thumbnail.png',\n",
       " 'png-transparent-graphy-happy-woman-face-hand-photography-thumbnail.png',\n",
       " 'png-transparent-smiley-happiness-happyornot-happy-people-miscellaneous-image-file-formats-face.png',\n",
       " 'py-face-human-expressions-emotions-model-beautiful-smile-blue-eyes-147751681.jpg',\n",
       " 'rgb0pf.jpg',\n",
       " 'roud-handsome-male-model-from-singapore-smiling-joy-and-cheerful-fit_400_400.jpg',\n",
       " 'sed-background-guy-happy-emotional-expression-outdoors-bearded-man-124640934.jpg',\n",
       " 'sex-love-life-blogs-smitten-0525-what-women-want-men-smile_sm.jpg',\n",
       " 'smiling-affects-people.jpg',\n",
       " 'smiling-people-png-favpng-etywf4ysfCc9aJ9ABUDXGffBe.jpg',\n",
       " 'stock-photo-happy-man-face-523985080.jpg',\n",
       " 't-of-pretty-young-caucasian-girl-with-happy-face-and-beautiful-smile-looking.jpg',\n",
       " 'Travis-Bradberry-Happy.jpg',\n",
       " 'vector.svg',\n",
       " 'vector10.svg',\n",
       " 'vector11.svg',\n",
       " 'vector12.svg',\n",
       " 'vector2.svg',\n",
       " 'vector3.svg',\n",
       " 'vector4.svg',\n",
       " 'vector5.svg',\n",
       " 'vector6.svg',\n",
       " 'vector7.svg',\n",
       " 'vector8.svg',\n",
       " 'vector9.svg',\n",
       " 'with-facial-expression-omg-and-wow-with-joy-cheerful-and-winning-fit_400_400.jpg',\n",
       " 'Woman-Smiling-At-Dinner-Party.jpg',\n",
       " 'young-african-american-model-long-afro-hair-smiling-model-isolated-163819588.jpg']"
      ]
     },
     "execution_count": 15,
     "metadata": {},
     "output_type": "execute_result"
    }
   ],
   "source": [
    "os.listdir(os.path.join(data_dir,\"Happy\"))"
   ]
  },
  {
   "cell_type": "code",
   "execution_count": 13,
   "metadata": {},
   "outputs": [],
   "source": [
    "images_extensions = [\"jpeg\", \"jpg\", \"bmp\", \"png\"]"
   ]
  },
  {
   "cell_type": "code",
   "execution_count": null,
   "metadata": {},
   "outputs": [],
   "source": []
  }
 ],
 "metadata": {
  "kernelspec": {
   "display_name": "Python 3",
   "language": "python",
   "name": "python3"
  },
  "language_info": {
   "codemirror_mode": {
    "name": "ipython",
    "version": 3
   },
   "file_extension": ".py",
   "mimetype": "text/x-python",
   "name": "python",
   "nbconvert_exporter": "python",
   "pygments_lexer": "ipython3",
   "version": "3.12.1"
  }
 },
 "nbformat": 4,
 "nbformat_minor": 2
}
